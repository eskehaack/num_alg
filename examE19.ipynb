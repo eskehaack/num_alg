{
 "cells": [
  {
   "cell_type": "markdown",
   "metadata": {},
   "source": [
    "# Numerical algorithms exam fall 19\n",
    "## MC\n",
    "**A)** \\\n",
    "Answer 1: 0.005 \\\n",
    "\\\n",
    "**B)** "
   ]
  },
  {
   "cell_type": "code",
   "execution_count": 13,
   "metadata": {},
   "outputs": [
    {
     "data": {
      "text/plain": [
       "(15.918367346938776, 0.465431070387339)"
      ]
     },
     "execution_count": 13,
     "metadata": {},
     "output_type": "execute_result"
    }
   ],
   "source": [
    "import numpy as np\n",
    "import matplotlib.pyplot as plt\n",
    "def cardinal_polynomials(nodes: list, i: int, t: list) -> float:\n",
    "    nodes = np.array(nodes)\n",
    "    t = np.array(t)\n",
    "\n",
    "    x_i = nodes[i]\n",
    "    p = 1\n",
    "    for x_j in np.delete(nodes, i, axis=0):\n",
    "        p *= (t - x_j) / (x_i - x_j)\n",
    "    return p\n",
    "\n",
    "# plt.plot(np.linspace(10,20), cardinal_polynomials([15,18,22], 1, np.linspace(10,20)))\n",
    "np.linspace(10,20)[29], cardinal_polynomials([15,18,22], 1, np.linspace(10,20))[29]"
   ]
  },
  {
   "cell_type": "markdown",
   "metadata": {},
   "source": [
    "Answer 2: 0.500"
   ]
  },
  {
   "cell_type": "markdown",
   "metadata": {},
   "source": [
    "**C)**"
   ]
  },
  {
   "cell_type": "code",
   "execution_count": 49,
   "metadata": {},
   "outputs": [
    {
     "data": {
      "text/latex": [
       "$\\displaystyle 6.37478186431663 \\cdot 10^{-7}$"
      ],
      "text/plain": [
       "6.37478186431663e-7"
      ]
     },
     "execution_count": 49,
     "metadata": {},
     "output_type": "execute_result"
    }
   ],
   "source": [
    "from sympy import *\n",
    "n = symbols(\"n\")\n",
    "M = 5**n * exp(5*2)\n",
    "expr = Lambda(n, 1/(4*(n+1)) * M * ((2/n)**(n+1)))\n",
    "(expr(22)).evalf()"
   ]
  },
  {
   "cell_type": "markdown",
   "metadata": {},
   "source": [
    "Answer 1: 21"
   ]
  },
  {
   "cell_type": "markdown",
   "metadata": {},
   "source": [
    "**D)**"
   ]
  },
  {
   "cell_type": "code",
   "execution_count": null,
   "metadata": {},
   "outputs": [],
   "source": [
    "import math as m\n",
    "def secant(a: float, b: float, nmax: int, f: type) -> list:\n",
    "    fa = f(a)\n",
    "    fb = f(b)\n",
    "    x = [a, b]\n",
    "    for _ in range(nmax - 1):\n",
    "        print(fb, fa)\n",
    "        d = fb * (b - a) / (fb - fa)\n",
    "        a = b\n",
    "        fa = fb\n",
    "        b = b - d\n",
    "        fb = f(b)\n",
    "        x.append(b)\n",
    "    return x\n",
    "\n",
    "f = lambda x: m.sin(x)\n",
    "secant(m.pi/4, 3*m.pi/4, 3, f)"
   ]
  },
  {
   "cell_type": "markdown",
   "metadata": {},
   "source": [
    "Answer 2: $\\frac{\\pi}{4}, \\frac{3\\pi}{4}$"
   ]
  },
  {
   "cell_type": "markdown",
   "metadata": {},
   "source": [
    "**E)**"
   ]
  },
  {
   "cell_type": "code",
   "execution_count": 45,
   "metadata": {},
   "outputs": [
    {
     "data": {
      "text/plain": [
       "0.025"
      ]
     },
     "execution_count": 45,
     "metadata": {},
     "output_type": "execute_result"
    }
   ],
   "source": [
    "# solve(1/(n**4) - 10**(-2), n)\n",
    "# 3.16227766016838 * 0.25\n",
    "# 0.790569415042095\n",
    "# solve(1 / (n**4) - 10**(-6), n)\n",
    "0.790569415042095 / 31.6227766016838"
   ]
  },
  {
   "cell_type": "markdown",
   "metadata": {},
   "source": [
    "Answer 2: $h\\approx 0.025$"
   ]
  },
  {
   "cell_type": "markdown",
   "metadata": {},
   "source": [
    "## Part 2"
   ]
  },
  {
   "cell_type": "markdown",
   "metadata": {},
   "source": [
    "**Question 1**"
   ]
  },
  {
   "cell_type": "markdown",
   "metadata": {},
   "source": [
    "$$\\frac{1}{n^4} \\approx 10^{-6}$$ \n",
    "$$\\left(\\frac{1}{10^{6}}\\right)^{\\frac{1}{4}} \\leq n$$"
   ]
  },
  {
   "cell_type": "code",
   "execution_count": 85,
   "metadata": {},
   "outputs": [
    {
     "data": {
      "text/plain": [
       "31.622776601683793"
      ]
     },
     "execution_count": 85,
     "metadata": {},
     "output_type": "execute_result"
    }
   ],
   "source": [
    "(1/(10**(-6)))**(1/4)"
   ]
  },
  {
   "cell_type": "markdown",
   "metadata": {},
   "source": [
    "n should be at least 32"
   ]
  },
  {
   "cell_type": "code",
   "execution_count": 95,
   "metadata": {},
   "outputs": [
    {
     "data": {
      "text/plain": [
       "1.0000005166847064"
      ]
     },
     "execution_count": 95,
     "metadata": {},
     "output_type": "execute_result"
    }
   ],
   "source": [
    "def MySimpson(f, a, b, n):\n",
    "    if n % 2 == 1:\n",
    "        print(f\"ERROR: n={n} is not even\")\n",
    "        return float(\"NaN\")\n",
    "    h = (b - a) / n\n",
    "    nodes = np.linspace(a, b, n + 1, endpoint=True)\n",
    "    comp_simpson = (h / 3) * (f(a) + f(b))\n",
    "\n",
    "    comp_simpson += ((4 * h) / 3) * sum(\n",
    "        [f(a + (2 * i - 1) * h) for i in range(1, int(n / 2) + 1)]\n",
    "    )\n",
    "    comp_simpson += ((2 * h) / 3) * sum(\n",
    "        [f(a + 2 * i * h) for i in range(1, int((n - 2) / 2) + 1)]\n",
    "    )\n",
    "\n",
    "    return comp_simpson\n",
    "\n",
    "f = lambda x: m.sin(2*x)\n",
    "MySimpson(f, 0, m.pi/2, 32)"
   ]
  },
  {
   "cell_type": "markdown",
   "metadata": {},
   "source": [
    "$$\\int_{0}^{\\frac{\\pi}{2}} \\sin(2x) dx = 1$$"
   ]
  },
  {
   "cell_type": "markdown",
   "metadata": {},
   "source": [
    "**Question 2**"
   ]
  },
  {
   "cell_type": "code",
   "execution_count": 97,
   "metadata": {},
   "outputs": [
    {
     "data": {
      "text/plain": [
       "array([1.        , 0.33333333])"
      ]
     },
     "execution_count": 97,
     "metadata": {},
     "output_type": "execute_result"
    }
   ],
   "source": [
    "import numpy as np\n",
    "xs = np.array([-1,-0.5, 0, 0.5, 1])\n",
    "y = np.array([-1, 0, 1, 2, 1])\n",
    "A = np.array([[m.sin(m.pi*x), m.cos(m.pi*x)] for x in xs])\n",
    "\n",
    "np.linalg.solve(A.T @ A, A.T @ y)"
   ]
  },
  {
   "cell_type": "markdown",
   "metadata": {},
   "source": [
    "$$c=\\begin{bmatrix} 1.00\\\\ 0.33 \\end{bmatrix}$$"
   ]
  },
  {
   "cell_type": "code",
   "execution_count": 103,
   "metadata": {},
   "outputs": [
    {
     "name": "stdout",
     "output_type": "stream",
     "text": [
      "4.667\n"
     ]
    }
   ],
   "source": [
    "fhat = lambda x: m.sin(m.pi * x) + (1/3)*cos(m.pi * x)\n",
    "yhat = np.array([fhat(x) for x in xs])\n",
    "print(round(np.sum(abs(y-yhat)),3))"
   ]
  },
  {
   "cell_type": "markdown",
   "metadata": {},
   "source": [
    "Sum of errors is $\\frac{8}{3}$"
   ]
  },
  {
   "cell_type": "code",
   "execution_count": 108,
   "metadata": {},
   "outputs": [
    {
     "data": {
      "text/plain": [
       "0.014999999999999996"
      ]
     },
     "execution_count": 108,
     "metadata": {},
     "output_type": "execute_result"
    }
   ],
   "source": [
    "np.linalg.cond(A.T@A) * 0.01"
   ]
  },
  {
   "cell_type": "markdown",
   "metadata": {},
   "source": [
    "Upper bound of the relative error is 0.015"
   ]
  },
  {
   "cell_type": "markdown",
   "metadata": {},
   "source": [
    "**Question 3**"
   ]
  },
  {
   "cell_type": "markdown",
   "metadata": {},
   "source": [
    "\\begin{align*}\n",
    "f(x) &= ([x-x^2]^T - [1, 0]^T)^2 \\\\\n",
    "f(x) &= (x-1)^2 + (x^2)^2 \\\\\n",
    "f'(x) &= 4x^3+2x-2\n",
    "\\end{align*}"
   ]
  },
  {
   "cell_type": "markdown",
   "metadata": {},
   "source": [
    "\\begin{align*}\n",
    "x_{n+1} &= x_n - \\frac{f'(x_n)}{f''(x_n)} \\\\\n",
    "x_{n+1} &= x_n - \\frac{4x_n^3+2x_n-2}{12x_n^2+2} \\\\\n",
    "x_{n+1} &= \\frac{- 2 x^{3} + 6 x^{2} + 1}{6 x + 1}\n",
    "\\end{align*}"
   ]
  },
  {
   "cell_type": "code",
   "execution_count": 121,
   "metadata": {},
   "outputs": [
    {
     "data": {
      "text/html": [
       "<div>\n",
       "<style scoped>\n",
       "    .dataframe tbody tr th:only-of-type {\n",
       "        vertical-align: middle;\n",
       "    }\n",
       "\n",
       "    .dataframe tbody tr th {\n",
       "        vertical-align: top;\n",
       "    }\n",
       "\n",
       "    .dataframe thead th {\n",
       "        text-align: right;\n",
       "    }\n",
       "</style>\n",
       "<table border=\"1\" class=\"dataframe\">\n",
       "  <thead>\n",
       "    <tr style=\"text-align: right;\">\n",
       "      <th></th>\n",
       "      <th>Values of newton itterations</th>\n",
       "    </tr>\n",
       "  </thead>\n",
       "  <tbody>\n",
       "    <tr>\n",
       "      <th>0</th>\n",
       "      <td>1.000</td>\n",
       "    </tr>\n",
       "    <tr>\n",
       "      <th>1</th>\n",
       "      <td>0.714</td>\n",
       "    </tr>\n",
       "    <tr>\n",
       "      <th>2</th>\n",
       "      <td>0.605</td>\n",
       "    </tr>\n",
       "    <tr>\n",
       "      <th>3</th>\n",
       "      <td>0.590</td>\n",
       "    </tr>\n",
       "    <tr>\n",
       "      <th>4</th>\n",
       "      <td>0.590</td>\n",
       "    </tr>\n",
       "  </tbody>\n",
       "</table>\n",
       "</div>"
      ],
      "text/plain": [
       "   Values of newton itterations\n",
       "0                         1.000\n",
       "1                         0.714\n",
       "2                         0.605\n",
       "3                         0.590\n",
       "4                         0.590"
      ]
     },
     "execution_count": 121,
     "metadata": {},
     "output_type": "execute_result"
    }
   ],
   "source": [
    "import pandas as pd\n",
    "def newton(starting_point: float, nmax: int, f: type, f_div: type) -> list:\n",
    "    x = starting_point\n",
    "    xs = [x]\n",
    "    for _ in range(nmax):\n",
    "        fx = f(x)\n",
    "        fp = f_div(x)\n",
    "        x = x - (fx / fp)\n",
    "        xs.append(x)\n",
    "    return xs\n",
    "\n",
    "f = lambda x: (4*x**3 + 2*x - 2)\n",
    "f_div = lambda x: (12*x**2 + 2)\n",
    "res = newton(1.0, 4, f, f_div)\n",
    "pd.DataFrame({'Values of newton itterations': [round(r,3) for r in res]})"
   ]
  },
  {
   "cell_type": "markdown",
   "metadata": {},
   "source": [
    "**Question 4**\\\n",
    "A has to be symmetric and positive definite (SPD)"
   ]
  },
  {
   "cell_type": "markdown",
   "metadata": {},
   "source": [
    "$A^2$ requires $n^3$ LOps \\\n",
    "Cholesky factorization requires $\\frac{1}{6}n^3$ LOps \\\n",
    "$A^2x=b$ requires $2n^2$ LOps"
   ]
  },
  {
   "cell_type": "markdown",
   "metadata": {},
   "source": [
    "**Question 5**"
   ]
  },
  {
   "cell_type": "markdown",
   "metadata": {},
   "source": [
    "\\begin{align*}\n",
    "Y &= \\begin{bmatrix} x \\\\ x' \\end{bmatrix} = \\begin{bmatrix} y_0 \\\\ y_1 \\end{bmatrix} \\\\\n",
    "Y' &= \\begin{bmatrix} x' \\\\ x'' \\end{bmatrix} = \\begin{bmatrix} y_1 \\\\ 4y_1 - 4y_0 + e^{-2t} \\end{bmatrix}\\\\\n",
    "\\end{align*}"
   ]
  },
  {
   "cell_type": "code",
   "execution_count": 138,
   "metadata": {},
   "outputs": [],
   "source": [
    "import numpy as np\n",
    "def odefun(t, y):\n",
    "    return np.array([\n",
    "        y[1],\n",
    "        -(4*y[1] + 4 * y[0] - exp(-2*t))\n",
    "    ], dtype=float)"
   ]
  },
  {
   "cell_type": "code",
   "execution_count": 148,
   "metadata": {},
   "outputs": [
    {
     "name": "stdout",
     "output_type": "stream",
     "text": [
      "0.09157819444367184\n",
      "-0.054946916666181615\n"
     ]
    }
   ],
   "source": [
    "def RK4system(fs: list, a:int, b:int, initial:list, h:float):\n",
    "    '''\n",
    "    Parameters\n",
    "    ---------\n",
    "    fs\n",
    "        function (right hand side)\n",
    "    \n",
    "    a\n",
    "        initial value\n",
    "    \n",
    "    b\n",
    "        end point\n",
    "    \n",
    "    initial\n",
    "        the guesses (x(0)=initial[0], x'(0)=initial[1])\n",
    "    \n",
    "    h\n",
    "        complexity parameter\n",
    "    \n",
    "    Returns\n",
    "    -------\n",
    "    xs_list\n",
    "        array([x(b), y(b)])\n",
    "    \n",
    "    ta\n",
    "        list of t values used (mostly for plots)\n",
    "    '''\n",
    "    n = m.floor((b-a)/h)\n",
    "    t = a\n",
    "    h2 = h / 2\n",
    "    xs = initial.copy()\n",
    "    xs_list, ta = [xs], [t]\n",
    "    for _ in range(n):\n",
    "        k1 = h * fs(t, xs)\n",
    "        k2 = h * fs(t + h2, xs + 0.5 * k1)\n",
    "        k3 = h * fs(t + h2, xs + 0.5 * k2)\n",
    "        k4 = h * fs(t + h, xs + k3)\n",
    "\n",
    "        xs += (k1 + 2 * k2 + 2 * k3 + k4) / 6\n",
    "        t += h \n",
    "        \n",
    "        xs_list.append(xs.copy())\n",
    "        ta.append(t)\n",
    "    return xs_list, ta\n",
    "\n",
    "xs, ta = RK4system(odefun, 0, 2, np.array([1,-1], dtype=float), 0.001)\n",
    "\n",
    "print(xs[-1][0])\n",
    "\n",
    "xs, ta = RK4system(odefun, 0, 2, np.array([1,-5], dtype=float), 0.001)\n",
    "\n",
    "print(xs[-1][0])"
   ]
  },
  {
   "cell_type": "code",
   "execution_count": 155,
   "metadata": {},
   "outputs": [
    {
     "data": {
      "text/plain": [
       "[-1, -5, -3.500000000000367]"
      ]
     },
     "execution_count": 155,
     "metadata": {},
     "output_type": "execute_result"
    }
   ],
   "source": [
    "def secant(a: float, b: float, nmax: int, f: type) -> list:\n",
    "    fa = f(a)\n",
    "    fb = f(b)\n",
    "    x = [a, b]\n",
    "    for _ in range(nmax - 1):\n",
    "        d = fb * (b - a) / (fb - fa)\n",
    "        a = b\n",
    "        fa = fb\n",
    "        b = b - d\n",
    "        fb = f(b)\n",
    "        x.append(b)\n",
    "    return x\n",
    "\n",
    "f = lambda x: RK4system(odefun, 0, 2, np.array([1, x], dtype=float), 0.001)[0][-1][0]\n",
    "secant(-1, -5, 2, f)"
   ]
  },
  {
   "cell_type": "code",
   "execution_count": 160,
   "metadata": {},
   "outputs": [
    {
     "data": {
      "text/plain": [
       "[<matplotlib.lines.Line2D at 0x22bf6cf9d00>]"
      ]
     },
     "execution_count": 160,
     "metadata": {},
     "output_type": "execute_result"
    },
    {
     "data": {
      "image/png": "[encoded data removed]",
      "text/plain": [
       "<Figure size 640x480 with 1 Axes>"
      ]
     },
     "metadata": {},
     "output_type": "display_data"
    }
   ],
   "source": [
    "xs, ta = RK4system(odefun, 0, 2, np.array([1, -3.5], dtype=float), 0.001)\n",
    "xs_0 = [x[0] for x in xs]\n",
    "plt.plot(ta[1:], xs_0[1:])"
   ]
  }
 ],
 "metadata": {
  "kernelspec": {
   "display_name": "Python 3.9.0 64-bit",
   "language": "python",
   "name": "python3"
  },
  "language_info": {
   "codemirror_mode": {
    "name": "ipython",
    "version": 3
   },
   "file_extension": ".py",
   "mimetype": "text/x-python",
   "name": "python",
   "nbconvert_exporter": "python",
   "pygments_lexer": "ipython3",
   "version": "3.9.0 (tags/v3.9.0:9cf6752, Oct  5 2020, 15:34:40) [MSC v.1927 64 bit (AMD64)]"
  },
  "orig_nbformat": 4,
  "vscode": {
   "interpreter": {
    "hash": "38a1999c3c82483ceb77d8d853e137b43eb79cce81715cd6b94890874c6f2042"
   }
  }
 },
 "nbformat": 4,
 "nbformat_minor": 2
}
