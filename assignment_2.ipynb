{
 "cells": [
  {
   "cell_type": "markdown",
   "metadata": {},
   "source": [
    "## Assignment 2 - 02601 Numerical algorithms\n",
    "### s214643\n",
    "### 14/10-2022"
   ]
  },
  {
   "cell_type": "markdown",
   "metadata": {},
   "source": [
    "## 1) Multiple choice\n",
    "\n",
    "A) Answer: 4. There cannot be two points with the same x values.\n"
   ]
  },
  {
   "cell_type": "markdown",
   "metadata": {},
   "source": [
    "B) Answer: 2. 0.50000"
   ]
  },
  {
   "cell_type": "code",
   "execution_count": 67,
   "metadata": {},
   "outputs": [
    {
     "data": {
      "text/plain": [
       "0.5"
      ]
     },
     "execution_count": 67,
     "metadata": {},
     "output_type": "execute_result"
    }
   ],
   "source": [
    "from functionality.interpolation import cardinal_polynomials\n",
    "import matplotlib.pyplot as plt\n",
    "import numpy as np\n",
    "t = np.linspace(10,20,11, endpoint=True)\n",
    "nodes = [15,18,22]\n",
    "cd = cardinal_polynomials(nodes, 1, t)\n",
    "cd[6]"
   ]
  },
  {
   "cell_type": "markdown",
   "metadata": {},
   "source": [
    "C) Answer: 3. 23"
   ]
  },
  {
   "cell_type": "code",
   "execution_count": 68,
   "metadata": {},
   "outputs": [
    {
     "name": "stdout",
     "output_type": "stream",
     "text": [
      "23\n"
     ]
    }
   ],
   "source": [
    "import math\n",
    "for n in range(1,30):\n",
    "    h = 2/n\n",
    "    M = 5**(n+1)*math.exp(5*2)\n",
    "    error = 1 / (4*(n+1)) * h**(n+1) * M\n",
    "    if error < 1e-6:\n",
    "        print(n)\n",
    "        break"
   ]
  },
  {
   "cell_type": "markdown",
   "metadata": {},
   "source": [
    "D) Answer: 3, Simpson < Composite trapezoid < Trapezoid"
   ]
  },
  {
   "cell_type": "code",
   "execution_count": 69,
   "metadata": {},
   "outputs": [
    {
     "name": "stdout",
     "output_type": "stream",
     "text": [
      "Simpson: 4.33\n",
      "Trapezoid: 5.0\n",
      "Composite trapezoid: 4.5\n"
     ]
    }
   ],
   "source": [
    "def simpson(a,b, y):\n",
    "    h = (b-a)/2\n",
    "    return (h/3)*(y[0]+4*y[1]+y[2])\n",
    "\n",
    "def trapezoid(a,b, y):\n",
    "    h = b - a\n",
    "    return (h/2)*(y[0]+y[-1])\n",
    "\n",
    "def comp_trap(a,b, y):\n",
    "    n = len(y)-1\n",
    "    h = (b-a)/n\n",
    "    edge_vals = 0.5*(y[0]+y[-1])\n",
    "    return h*(edge_vals+sum(y[1:-1]))\n",
    "\n",
    "print(f\"Simpson: {round(simpson(1,3,[2,2,3]),2)}\")\n",
    "print(f\"Trapezoid: {round(trapezoid(1,3,[2,2,3]),2)}\")\n",
    "print(f\"Composite trapezoid: {round(comp_trap(1,3,[2,2,3]),2)}\")"
   ]
  },
  {
   "cell_type": "markdown",
   "metadata": {},
   "source": [
    "## 2) Interpolation"
   ]
  },
  {
   "cell_type": "markdown",
   "metadata": {},
   "source": [
    "A):\n",
    "\n",
    "\\begin{align*}\n",
    "l_0(x) =& \\left(\\frac{x-2}{1-2}\\right)\\left(\\frac{x-3}{1-3}\\right) \\\\\n",
    "l_1(x) =& \\left(\\frac{x-1}{2-1}\\right)\\left(\\frac{x-3}{2-3}\\right) \\\\\n",
    "l_2(x) =& \\left(\\frac{x-1}{3-1}\\right)\\left(\\frac{x-2}{3-2}\\right)\n",
    "\\end{align*}\n",
    "$$P_2(x) = ln(1)l_0(x) + ln(2)l_1(x) + ln(3)l_2(x) = ln(2)l_1(x) + ln(3)l_2(x)$$\n",
    "\n",
    "B):\n",
    "$$\n",
    "\\frac{1}{4(n+1)}Mh^{n+1}\n",
    "$$\n",
    "\n",
    "$$\n",
    "n = 2, \\quad h = \\frac{3-1}{n}=1, \\quad M = \\max_{x\\in[1,3]}\\frac{2}{x^3}=2\n",
    "$$\n",
    "\n",
    "$$\n",
    "error = \\frac{1}{4(2+1)} \\cdot 2 \\cdot 1^{2+1} = 6\n",
    "$$"
   ]
  },
  {
   "cell_type": "markdown",
   "metadata": {},
   "source": [
    "## 3) Composite Simpsons rule"
   ]
  },
  {
   "cell_type": "markdown",
   "metadata": {},
   "source": [
    "A) Implementing the function"
   ]
  },
  {
   "cell_type": "code",
   "execution_count": 70,
   "metadata": {},
   "outputs": [],
   "source": [
    "def MySimpson(f, a,b,n):\n",
    "    if n % 2 == 1:\n",
    "        print(f\"ERROR: n={n} is not even\")\n",
    "        return float(\"NaN\")\n",
    "    h = (b-a) / n\n",
    "    nodes = np.linspace(a,b,n+1, endpoint=True)\n",
    "    comp_simpson = 0\n",
    "    for a,b in zip(nodes[::2], nodes[1::2]):\n",
    "        comp_simpson += (f(a) + 4*f(a+h) + f(b))\n",
    "    \n",
    "    return (h/3)*comp_simpson"
   ]
  },
  {
   "cell_type": "code",
   "execution_count": 143,
   "metadata": {},
   "outputs": [],
   "source": [
    "def MySimpson(f, a,b,n):\n",
    "    if n % 2 == 1:\n",
    "        print(f\"ERROR: n={n} is not even\")\n",
    "        return float(\"NaN\")\n",
    "    h = (b-a) / n\n",
    "    nodes = np.linspace(a,b,n+1, endpoint=True)\n",
    "    comp_simpson = (h/3)*(f(a)+f(b))\n",
    "    \n",
    "    comp_simpson += ((4 * h)/3) * sum([f(a+(2*i-1)*h) for i in range(1, int(n/2)+1)])\n",
    "    comp_simpson += ((2 * h)/3) * sum([f(a+2*i*h) for i in range(1, int((n-2)/2)+1)])\n",
    "    \n",
    "    return comp_simpson"
   ]
  },
  {
   "cell_type": "markdown",
   "metadata": {},
   "source": [
    "B) Testing with ploynomial of degree 3"
   ]
  },
  {
   "cell_type": "code",
   "execution_count": 144,
   "metadata": {},
   "outputs": [
    {
     "name": "stdout",
     "output_type": "stream",
     "text": [
      "ERROR: n=3 is not even\n"
     ]
    },
    {
     "data": {
      "text/html": [
       "<div>\n",
       "<style scoped>\n",
       "    .dataframe tbody tr th:only-of-type {\n",
       "        vertical-align: middle;\n",
       "    }\n",
       "\n",
       "    .dataframe tbody tr th {\n",
       "        vertical-align: top;\n",
       "    }\n",
       "\n",
       "    .dataframe thead th {\n",
       "        text-align: right;\n",
       "    }\n",
       "</style>\n",
       "<table border=\"1\" class=\"dataframe\">\n",
       "  <thead>\n",
       "    <tr style=\"text-align: right;\">\n",
       "      <th></th>\n",
       "      <th>n</th>\n",
       "      <th>Numerical estimation</th>\n",
       "      <th>Error</th>\n",
       "    </tr>\n",
       "  </thead>\n",
       "  <tbody>\n",
       "    <tr>\n",
       "      <th>0</th>\n",
       "      <td>2</td>\n",
       "      <td>4.0</td>\n",
       "      <td>0.0</td>\n",
       "    </tr>\n",
       "    <tr>\n",
       "      <th>1</th>\n",
       "      <td>3</td>\n",
       "      <td>NaN</td>\n",
       "      <td>NaN</td>\n",
       "    </tr>\n",
       "    <tr>\n",
       "      <th>2</th>\n",
       "      <td>20</td>\n",
       "      <td>4.0</td>\n",
       "      <td>0.0</td>\n",
       "    </tr>\n",
       "  </tbody>\n",
       "</table>\n",
       "</div>"
      ],
      "text/plain": [
       "    n  Numerical estimation  Error\n",
       "0   2                   4.0    0.0\n",
       "1   3                   NaN    NaN\n",
       "2  20                   4.0    0.0"
      ]
     },
     "execution_count": 144,
     "metadata": {},
     "output_type": "execute_result"
    }
   ],
   "source": [
    "import pandas as pd\n",
    "\n",
    "## TEST FUNCTIONS\n",
    "\n",
    "f = lambda x: 4*x**3 + 3*x**2 + 2*x + 1\n",
    "int_f = lambda x: x**4 + x**3 + x**2 + x\n",
    "\n",
    "\n",
    "## ERROR TABLE\n",
    "a, b = 0, 1\n",
    "actual = int_f(b)-int_f(a)\n",
    "n_list, numerical, error = list(), list(), list()\n",
    "for n in (2,3,20):\n",
    "    estimat = MySimpson(f, a,b, n)\n",
    "    n_list.append(n)\n",
    "    numerical.append(estimat)\n",
    "    error.append(abs(actual - estimat))\n",
    "\n",
    "pd.DataFrame({\"n\": n_list, \"Numerical estimation\": numerical, \"Error\": error})\n"
   ]
  },
  {
   "cell_type": "markdown",
   "metadata": {},
   "source": [
    "As n increases in the polynomial test, we know that a polynomial of degree 3 can be approximated without error. This checks out."
   ]
  },
  {
   "cell_type": "markdown",
   "metadata": {},
   "source": [
    "C) Testing with sine function"
   ]
  },
  {
   "cell_type": "code",
   "execution_count": 145,
   "metadata": {},
   "outputs": [
    {
     "data": {
      "text/html": [
       "<div>\n",
       "<style scoped>\n",
       "    .dataframe tbody tr th:only-of-type {\n",
       "        vertical-align: middle;\n",
       "    }\n",
       "\n",
       "    .dataframe tbody tr th {\n",
       "        vertical-align: top;\n",
       "    }\n",
       "\n",
       "    .dataframe thead th {\n",
       "        text-align: right;\n",
       "    }\n",
       "</style>\n",
       "<table border=\"1\" class=\"dataframe\">\n",
       "  <thead>\n",
       "    <tr style=\"text-align: right;\">\n",
       "      <th></th>\n",
       "      <th>n</th>\n",
       "      <th>Numerical estimation</th>\n",
       "      <th>Error</th>\n",
       "    </tr>\n",
       "  </thead>\n",
       "  <tbody>\n",
       "    <tr>\n",
       "      <th>0</th>\n",
       "      <td>2</td>\n",
       "      <td>2.094395</td>\n",
       "      <td>0.094395</td>\n",
       "    </tr>\n",
       "    <tr>\n",
       "      <th>1</th>\n",
       "      <td>4</td>\n",
       "      <td>2.004560</td>\n",
       "      <td>0.004560</td>\n",
       "    </tr>\n",
       "    <tr>\n",
       "      <th>2</th>\n",
       "      <td>6</td>\n",
       "      <td>2.000863</td>\n",
       "      <td>0.000863</td>\n",
       "    </tr>\n",
       "    <tr>\n",
       "      <th>3</th>\n",
       "      <td>8</td>\n",
       "      <td>2.000269</td>\n",
       "      <td>0.000269</td>\n",
       "    </tr>\n",
       "    <tr>\n",
       "      <th>4</th>\n",
       "      <td>10</td>\n",
       "      <td>2.000110</td>\n",
       "      <td>0.000110</td>\n",
       "    </tr>\n",
       "    <tr>\n",
       "      <th>5</th>\n",
       "      <td>12</td>\n",
       "      <td>2.000053</td>\n",
       "      <td>0.000053</td>\n",
       "    </tr>\n",
       "    <tr>\n",
       "      <th>6</th>\n",
       "      <td>14</td>\n",
       "      <td>2.000028</td>\n",
       "      <td>0.000028</td>\n",
       "    </tr>\n",
       "    <tr>\n",
       "      <th>7</th>\n",
       "      <td>16</td>\n",
       "      <td>2.000017</td>\n",
       "      <td>0.000017</td>\n",
       "    </tr>\n",
       "    <tr>\n",
       "      <th>8</th>\n",
       "      <td>18</td>\n",
       "      <td>2.000010</td>\n",
       "      <td>0.000010</td>\n",
       "    </tr>\n",
       "    <tr>\n",
       "      <th>9</th>\n",
       "      <td>20</td>\n",
       "      <td>2.000007</td>\n",
       "      <td>0.000007</td>\n",
       "    </tr>\n",
       "  </tbody>\n",
       "</table>\n",
       "</div>"
      ],
      "text/plain": [
       "    n  Numerical estimation     Error\n",
       "0   2              2.094395  0.094395\n",
       "1   4              2.004560  0.004560\n",
       "2   6              2.000863  0.000863\n",
       "3   8              2.000269  0.000269\n",
       "4  10              2.000110  0.000110\n",
       "5  12              2.000053  0.000053\n",
       "6  14              2.000028  0.000028\n",
       "7  16              2.000017  0.000017\n",
       "8  18              2.000010  0.000010\n",
       "9  20              2.000007  0.000007"
      ]
     },
     "execution_count": 145,
     "metadata": {},
     "output_type": "execute_result"
    }
   ],
   "source": [
    "import pandas as pd\n",
    "\n",
    "## TEST FUNCTIONS\n",
    "\n",
    "f = lambda x: math.sin(x)\n",
    "int_f = lambda x: - math.cos(x)\n",
    "\n",
    "\n",
    "## ERROR TABLE\n",
    "a, b = 0, math.pi\n",
    "actual = int_f(b)-int_f(a)\n",
    "n_list, numerical, error = list(), list(), list()\n",
    "for n in range(2,21,2):\n",
    "    estimat = MySimpson(f, a,b, n)\n",
    "    n_list.append(n)\n",
    "    numerical.append(estimat)\n",
    "    error.append(abs(actual- estimat))\n",
    "\n",
    "pd.DataFrame({\"n\": n_list, \"Numerical estimation\": numerical, \"Error\": error})"
   ]
  },
  {
   "cell_type": "markdown",
   "metadata": {},
   "source": [
    "Here we test for a couple of more values of n, now testing the integral of a sine function. We see the error reducing rapidly as n increases.\n",
    "It seems this function is easier to estimate."
   ]
  },
  {
   "cell_type": "markdown",
   "metadata": {},
   "source": [
    "D) Upper bound for absolute error"
   ]
  },
  {
   "cell_type": "markdown",
   "metadata": {},
   "source": [
    "Using the error theorem (8) from the book:\n",
    "$$\n",
    "-\\frac{1}{180} (b-a) h^4 f^{(4)}(\\xi)\n",
    "$$\n",
    "And inserting our values:\n",
    "$$\n",
    "a = 0, \\quad b = \\pi, \\quad h = \\frac{\\pi}{n}, \\quad M = 1\n",
    "$$\n",
    "We can find the theoretical upper bound for the error as:\n",
    "$$\n",
    "-\\frac{1}{180}\\frac{\\pi^5}{n^4}\n",
    "$$"
   ]
  },
  {
   "cell_type": "code",
   "execution_count": 151,
   "metadata": {},
   "outputs": [
    {
     "data": {
      "image/png": "[encoded data removed]",
      "text/plain": [
       "<Figure size 432x288 with 1 Axes>"
      ]
     },
     "metadata": {
      "needs_background": "light"
     },
     "output_type": "display_data"
    }
   ],
   "source": [
    "x = np.linspace(1, 500, 500, endpoint=True)\n",
    "plt.plot(x, [-(-1/180 * (math.pi**5)/(n**4)) for n in x], 'r')\n",
    "plt.xlabel(\"n\")\n",
    "plt.ylabel(\"Absolute theoretical error\")\n",
    "plt.grid()\n",
    "plt.yscale('log')\n",
    "plt.title(\"Upper bound theoretical error\")\n",
    "plt.show()"
   ]
  },
  {
   "cell_type": "markdown",
   "metadata": {},
   "source": [
    "E) Testing the n for a maximum error of 1e-5, and checking with composite trapezoid function"
   ]
  },
  {
   "cell_type": "code",
   "execution_count": 147,
   "metadata": {},
   "outputs": [
    {
     "name": "stdout",
     "output_type": "stream",
     "text": [
      "Lowest n with error below 1e-5 is: n = 20\n"
     ]
    },
    {
     "data": {
      "image/png": "[encoded data removed]",
      "text/plain": [
       "<Figure size 432x288 with 1 Axes>"
      ]
     },
     "metadata": {
      "needs_background": "light"
     },
     "output_type": "display_data"
    }
   ],
   "source": [
    "## Test of minimal error (below 1e-5)\n",
    "f = lambda x: math.sin(x)\n",
    "int_f = lambda x: - math.cos(x)\n",
    "\n",
    "a, b = 0, math.pi\n",
    "actual = int_f(b)-int_f(a)\n",
    "\n",
    "for n in range(2,500,2):\n",
    "    estimat = MySimpson(f, a,b, n)\n",
    "    error = abs(estimat-actual)\n",
    "    if error < 1e-5:\n",
    "        print(f\"Lowest n with error below 1e-5 is: n = {n}\")\n",
    "        break\n",
    "\n",
    "x = np.linspace(2,500, 499, endpoint=True)\n",
    "plt.plot(x[::2], [abs(MySimpson(f, 0,math.pi, int(n))-2) for n in x[::2]])\n",
    "plt.yscale('log')\n",
    "plt.grid()\n",
    "plt.xlabel(\"n\")\n",
    "plt.ylabel(\"Absolute error\")\n",
    "plt.title(\"Error of composite simpsons\")\n",
    "plt.show()"
   ]
  },
  {
   "cell_type": "markdown",
   "metadata": {},
   "source": [
    "The lowest n with an error less than 1e-5 is 20. This is fairly good."
   ]
  },
  {
   "cell_type": "markdown",
   "metadata": {},
   "source": [
    "Next: showing that the theoretical upper bound error is indeed an upper bound for the error"
   ]
  },
  {
   "cell_type": "code",
   "execution_count": 152,
   "metadata": {},
   "outputs": [
    {
     "data": {
      "image/png": "[encoded data removed]",
      "text/plain": [
       "<Figure size 432x288 with 1 Axes>"
      ]
     },
     "metadata": {
      "needs_background": "light"
     },
     "output_type": "display_data"
    }
   ],
   "source": [
    "x = np.linspace(2, 50, 49, endpoint=True)\n",
    "plt.plot(x[::2], [(abs(MySimpson(f, 0,math.pi, int(n))-2)) for n in x[::2]])\n",
    "plt.plot(x, [((1/180 * (math.pi**5)/(n**4))) for n in x], 'r')\n",
    "plt.xlabel(\"n\")\n",
    "plt.ylabel(\"Negative theoretical error\")\n",
    "plt.grid()\n",
    "plt.yscale('log')\n",
    "plt.show()"
   ]
  },
  {
   "cell_type": "markdown",
   "metadata": {},
   "source": [
    "Except for a few outliers in the begining, it is clearly shown that the upper bound (in red) has a higher error for any number of intervals (n) than the calculated error (in blue)."
   ]
  },
  {
   "cell_type": "markdown",
   "metadata": {},
   "source": [
    "Finding error of composite trapezoid function"
   ]
  },
  {
   "cell_type": "code",
   "execution_count": 105,
   "metadata": {},
   "outputs": [
    {
     "name": "stdout",
     "output_type": "stream",
     "text": [
      "Lowest n with error below 1e-5 is: n = 406\n"
     ]
    },
    {
     "data": {
      "image/png": "[encoded data removed]",
      "text/plain": [
       "<Figure size 432x288 with 1 Axes>"
      ]
     },
     "metadata": {
      "needs_background": "light"
     },
     "output_type": "display_data"
    }
   ],
   "source": [
    "## same check as above, but with composite trapezoid\n",
    "\n",
    "def comp_trap(f, a,b, n):\n",
    "    x = np.linspace(a,b,n+1,endpoint=True)\n",
    "    h = (b-a) / n\n",
    "    edge_vals = 0.5 * (f(x[0]) + f(x[-1]))\n",
    "    return h * (edge_vals + sum([f(x_i) for x_i in x[1:-1]]))\n",
    "\n",
    "f = lambda x: math.sin(x)\n",
    "int_f = lambda x: - math.cos(x)\n",
    "\n",
    "a, b = 0, math.pi\n",
    "actual = int_f(b)-int_f(a)\n",
    "\n",
    "for n in range(2,500,2):\n",
    "    estimat = comp_trap(f, a,b, n)\n",
    "    error = abs(estimat-actual)\n",
    "    if error < 1e-5:\n",
    "        print(f\"Lowest n with error below 1e-5 is: n = {n}\")\n",
    "        break\n",
    "\n",
    "x = np.linspace(2,500, 499, endpoint=True)\n",
    "plt.plot(x[::2], [abs(comp_trap(f, 0,math.pi, int(n))-2) for n in x[::2]])\n",
    "plt.yscale('log')\n",
    "plt.grid()\n",
    "plt.xlabel(\"n\")\n",
    "plt.ylabel(\"Absolute error\")\n",
    "plt.title(\"Error of composite trapezoid\")\n",
    "plt.show()"
   ]
  },
  {
   "cell_type": "markdown",
   "metadata": {},
   "source": [
    "The lowest n with an error less than 1e-5 is 406. It seems that the comp. trapezoid error falls with $\\frac{1}{2^2}$, where the comp. simpsons falls with $\\frac{1}{4^2}$. The Composite simpsons model is therefor the fastest of the two."
   ]
  }
 ],
 "metadata": {
  "kernelspec": {
   "display_name": "Python 3.9.0 64-bit",
   "language": "python",
   "name": "python3"
  },
  "language_info": {
   "codemirror_mode": {
    "name": "ipython",
    "version": 3
   },
   "file_extension": ".py",
   "mimetype": "text/x-python",
   "name": "python",
   "nbconvert_exporter": "python",
   "pygments_lexer": "ipython3",
   "version": "3.9.0"
  },
  "orig_nbformat": 4,
  "vscode": {
   "interpreter": {
    "hash": "38a1999c3c82483ceb77d8d853e137b43eb79cce81715cd6b94890874c6f2042"
   }
  }
 },
 "nbformat": 4,
 "nbformat_minor": 2
}
