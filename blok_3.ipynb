{
 "cells": [
  {
   "cell_type": "code",
   "execution_count": 142,
   "metadata": {},
   "outputs": [
    {
     "data": {
      "text/plain": [
       "1.796875"
      ]
     },
     "execution_count": 142,
     "metadata": {},
     "output_type": "execute_result"
    }
   ],
   "source": [
    "import math\n",
    "\n",
    "h   = 1/2\n",
    "t_0 = 0\n",
    "\n",
    "x   = lambda t: 1\n",
    "dx  = lambda t: t + x(t)\n",
    "d2x = lambda t: 1 + dx(t)\n",
    "d3x = lambda t: d2x(t)\n",
    "d4x = lambda t: d3x(t)\n",
    "\n",
    "first  = x(t_0) + h * dx(t_0)\n",
    "\n",
    "second = x(t_0) + h * (dx(t_0) +\n",
    "                      ((1/2) * h * d2x(t_0)))\n",
    "\n",
    "third  = x(t_0) + h * (dx(t_0) +\n",
    "                      ((1/2) * h * (d2x(t_0) +\n",
    "                      ((1/3) * h * (d3x(t_0))))))\n",
    "\n",
    "fourth = x(t_0) + h * (dx(t_0) +\n",
    "                      ((1/2) * h * (d2x(t_0) +\n",
    "                      ((1/3) * h * (d3x(t_0) +\n",
    "                      ((1/4) * h * (d4x(t_0))))))))\n",
    "\n",
    "fourth\n",
    "\n"
   ]
  },
  {
   "cell_type": "code",
   "execution_count": null,
   "metadata": {},
   "outputs": [],
   "source": [
    "def taylor_diff(t0, h, functions):\n",
    "    approx = 0\n",
    "    for i in range(1, len(functions)-1):\n",
    "        approx += 1/(math.factorial(i)) + h**i * functions[i](t0) \n",
    "    \n",
    "    return approx\n",
    "\n",
    "taylor_diff(0, (1/2), [x, dx, d2x, d3x, d4x])\n",
    "\n",
    "#### Doesn't work"
   ]
  },
  {
   "cell_type": "code",
   "execution_count": 8,
   "metadata": {},
   "outputs": [],
   "source": [
    "import numpy as np\n",
    "def order_2_taylor(a, b, n, x_0, df, ddf):\n",
    "    \"\"\"\n",
    "    Parameters\n",
    "    ----------\n",
    "    a, b\n",
    "        interval edges\n",
    "    \n",
    "    n \n",
    "        itterations\n",
    "    \n",
    "    x_0\n",
    "        initial value of x (x(a) = x_0)\n",
    "    \n",
    "    df, ddf\n",
    "        derivatives of function\n",
    "    \"\"\"\n",
    "    h = (b-a)/n\n",
    "    t = a\n",
    "    x = x_0\n",
    "    vals = [x_0]\n",
    "    for k in range(1,n+1):\n",
    "        df_val = df(t, x)\n",
    "        ddf_val = ddf(df_val, x)\n",
    "        \n",
    "        x = x + h * (df_val + (1/2) * h * ddf_val)\n",
    "        \n",
    "        vals.append(x)\n",
    "        t = (a+k*h)\n",
    "        \n",
    "    return vals\n",
    "\n",
    "n = 10\n",
    "x_0 = 1\n",
    "dx = lambda t, x: t + x\n",
    "d2x = lambda dx, x: 1 + dx\n",
    "\n",
    "app_vals = order_2_taylor(0,0.5,n,x_0,dx,d2x)"
   ]
  },
  {
   "cell_type": "code",
   "execution_count": 12,
   "metadata": {},
   "outputs": [
    {
     "data": {
      "image/png": "[encoded data removed]",
      "text/plain": [
       "<Figure size 432x288 with 1 Axes>"
      ]
     },
     "metadata": {
      "needs_background": "light"
     },
     "output_type": "display_data"
    }
   ],
   "source": [
    "import matplotlib.pyplot as plt\n",
    "xs = np.linspace(0, 0.5, n+1, endpoint=True)\n",
    "plt.plot(xs, app_vals)\n",
    "\n",
    "xs = np.linspace(0, 0.5, 1000, endpoint=True)\n",
    "acc_vals = lambda t: -t - 1 + 2*math.exp(t)\n",
    "plt.plot(xs, [acc_vals(x) for x in xs])\n",
    "\n",
    "plt.show()"
   ]
  },
  {
   "cell_type": "code",
   "execution_count": 168,
   "metadata": {},
   "outputs": [
    {
     "data": {
      "text/html": [
       "<div>\n",
       "<style scoped>\n",
       "    .dataframe tbody tr th:only-of-type {\n",
       "        vertical-align: middle;\n",
       "    }\n",
       "\n",
       "    .dataframe tbody tr th {\n",
       "        vertical-align: top;\n",
       "    }\n",
       "\n",
       "    .dataframe thead th {\n",
       "        text-align: right;\n",
       "    }\n",
       "</style>\n",
       "<table border=\"1\" class=\"dataframe\">\n",
       "  <thead>\n",
       "    <tr style=\"text-align: right;\">\n",
       "      <th></th>\n",
       "      <th>n</th>\n",
       "      <th>error</th>\n",
       "      <th>relative errors</th>\n",
       "    </tr>\n",
       "  </thead>\n",
       "  <tbody>\n",
       "    <tr>\n",
       "      <th>0</th>\n",
       "      <td>16</td>\n",
       "      <td>2.621254e-04</td>\n",
       "      <td>-</td>\n",
       "    </tr>\n",
       "    <tr>\n",
       "      <th>1</th>\n",
       "      <td>32</td>\n",
       "      <td>6.630472e-05</td>\n",
       "      <td>3.95334</td>\n",
       "    </tr>\n",
       "    <tr>\n",
       "      <th>2</th>\n",
       "      <td>64</td>\n",
       "      <td>1.667365e-05</td>\n",
       "      <td>3.97662</td>\n",
       "    </tr>\n",
       "    <tr>\n",
       "      <th>3</th>\n",
       "      <td>128</td>\n",
       "      <td>4.180648e-06</td>\n",
       "      <td>3.98829</td>\n",
       "    </tr>\n",
       "    <tr>\n",
       "      <th>4</th>\n",
       "      <td>256</td>\n",
       "      <td>1.046694e-06</td>\n",
       "      <td>3.99414</td>\n",
       "    </tr>\n",
       "    <tr>\n",
       "      <th>5</th>\n",
       "      <td>512</td>\n",
       "      <td>2.618653e-07</td>\n",
       "      <td>3.99707</td>\n",
       "    </tr>\n",
       "    <tr>\n",
       "      <th>6</th>\n",
       "      <td>1024</td>\n",
       "      <td>6.549031e-08</td>\n",
       "      <td>3.99854</td>\n",
       "    </tr>\n",
       "  </tbody>\n",
       "</table>\n",
       "</div>"
      ],
      "text/plain": [
       "      n         error relative errors\n",
       "0    16  2.621254e-04               -\n",
       "1    32  6.630472e-05         3.95334\n",
       "2    64  1.667365e-05         3.97662\n",
       "3   128  4.180648e-06         3.98829\n",
       "4   256  1.046694e-06         3.99414\n",
       "5   512  2.618653e-07         3.99707\n",
       "6  1024  6.549031e-08         3.99854"
      ]
     },
     "execution_count": 168,
     "metadata": {},
     "output_type": "execute_result"
    }
   ],
   "source": [
    "import pandas as pd\n",
    "errors = list()\n",
    "rel_errors = [\"-\"]\n",
    "acc = -1-(1/2)+2*math.exp(1/2)\n",
    "ns = [16, 32, 64, 128, 256, 512, 1024]\n",
    "for n in ns:\n",
    "    error = abs(acc - order_2_taylor(0,0.5,n,x_0,dx,d2x)[-1])\n",
    "    errors.append(error)\n",
    "    if n != ns[0]:\n",
    "        rel_errors.append(errors[-2]/error)\n",
    "    \n",
    "pd.DataFrame({\"n\": ns, \"error\": errors, \"relative errors\": rel_errors})"
   ]
  },
  {
   "cell_type": "code",
   "execution_count": 153,
   "metadata": {},
   "outputs": [
    {
     "data": {
      "text/plain": [
       "inf"
      ]
     },
     "execution_count": 153,
     "metadata": {},
     "output_type": "execute_result"
    }
   ],
   "source": [
    "order_2_taylor(0,0.5,10000,x_0,dx,d2x)[-1]"
   ]
  },
  {
   "cell_type": "code",
   "execution_count": 34,
   "metadata": {},
   "outputs": [
    {
     "data": {
      "text/plain": [
       "3.4361200277343054"
      ]
     },
     "execution_count": 34,
     "metadata": {},
     "output_type": "execute_result"
    }
   ],
   "source": [
    "def RK4(f, t, x, h, n):\n",
    "    \"\"\"\n",
    "    Parameters\n",
    "    ----------\n",
    "    f\n",
    "        function to approksimate\n",
    "        \n",
    "    t\n",
    "        start of interval\n",
    "    \n",
    "    x\n",
    "        initial value of x (x(t) = x)\n",
    "    \n",
    "    h\n",
    "        (end interval - start interval) / 2 or (b-a)/2\n",
    "    \n",
    "    n\n",
    "        itterations\n",
    "    \n",
    "    Returns\n",
    "    ---------\n",
    "    x\n",
    "        Aprroksimated value at the end of the interval (for differential equations)\n",
    "    \"\"\"\n",
    "    ta = t\n",
    "    h2 = h / 2\n",
    "    for j in range(1, n):\n",
    "        k1 = h * f(t, x)\n",
    "        k2 = h * f(t + h2, x + 0.5 * k1)\n",
    "        k3 = h * f(t + h2, x + 0.5 * k2)\n",
    "        k4 = h * f(t + h, x + k3)\n",
    "        \n",
    "        x += (k1 + 2 * k2 + 2 * k3 + k4) / 6\n",
    "        t = ta + j * h\n",
    "    return x\n",
    "\n",
    "f = lambda t, x: t + x\n",
    "t = 0\n",
    "x = 1\n",
    "n = 10000\n",
    "h = (1 - t)/n\n",
    "\n",
    "\n",
    "RK4(f, t, x, h, n)"
   ]
  },
  {
   "cell_type": "code",
   "execution_count": 67,
   "metadata": {},
   "outputs": [
    {
     "data": {
      "text/plain": [
       "0.5426926209691338"
      ]
     },
     "execution_count": 67,
     "metadata": {},
     "output_type": "execute_result"
    }
   ],
   "source": [
    "df = lambda t, x: x**(1/3)\n",
    "ddf = lambda t, x: 1\n",
    "order_2_taylor(0, 1, 1000, 0, df, ddf)[-1]"
   ]
  },
  {
   "cell_type": "code",
   "execution_count": 70,
   "metadata": {},
   "outputs": [
    {
     "data": {
      "text/latex": [
       "$\\displaystyle t x^{0.333333333333333}$"
      ],
      "text/plain": [
       "t*x**0.333333333333333"
      ]
     },
     "execution_count": 70,
     "metadata": {},
     "output_type": "execute_result"
    }
   ],
   "source": [
    "from sympy import *\n",
    "x = symbols(\"x\")\n",
    "df = Lambda(x, x**(1/3))\n",
    "integrate(df(x),t)"
   ]
  },
  {
   "cell_type": "code",
   "execution_count": 69,
   "metadata": {},
   "outputs": [
    {
     "data": {
      "text/plain": [
       "0.5443310539518174"
      ]
     },
     "execution_count": 69,
     "metadata": {},
     "output_type": "execute_result"
    }
   ],
   "source": [
    "((2/3) * 1) ** (3/2)"
   ]
  },
  {
   "cell_type": "code",
   "execution_count": 72,
   "metadata": {},
   "outputs": [
    {
     "data": {
      "text/plain": [
       "0.0"
      ]
     },
     "execution_count": 72,
     "metadata": {},
     "output_type": "execute_result"
    }
   ],
   "source": [
    "f = lambda t, x: t*x**(1/3)\n",
    "t = 0\n",
    "x = 0\n",
    "n = 1000\n",
    "h = (1 - t)/n\n",
    "RK4(f, t, x, h, n)"
   ]
  },
  {
   "cell_type": "code",
   "execution_count": 77,
   "metadata": {},
   "outputs": [
    {
     "data": {
      "text/plain": [
       "[<function __main__.<lambda>(t, x, y)>, <function __main__.<lambda>(t, x, y)>]"
      ]
     },
     "execution_count": 77,
     "metadata": {},
     "output_type": "execute_result"
    }
   ],
   "source": [
    "\n",
    "import numpy as np\n",
    "def RK4system(fs, t, xs, h, n):\n",
    "    \"\"\"\n",
    "    Parameters\n",
    "    ----------\n",
    "    f\n",
    "        system to approximate\n",
    "        \n",
    "    t\n",
    "        start of interval\n",
    "    \n",
    "    x\n",
    "        initial value of x (x(t) = x)\n",
    "    \n",
    "    h\n",
    "        (end interval - start interval) / 2 or (b-a)/2\n",
    "    \n",
    "    n\n",
    "        itterations\n",
    "    \n",
    "    Returns\n",
    "    ---------\n",
    "    x\n",
    "        Aprroximated value at the end of the interval (for differential equations)\n",
    "    \"\"\"\n",
    "    xs = np.array(xs)\n",
    "    ta = t\n",
    "    h2 = h / 2\n",
    "    for j in range(1, n):\n",
    "        k1 = h * np.array([f(t, xs[i]) for i, f in enumerate(fs)])\n",
    "        k2 = h * np.array([f(t + h2, xs[i] + 0.5 * k1) for i, f in enumerate(fs)])\n",
    "        k3 = h * np.array([f(t + h2, xs[i] + 0.5 * k2) for i, f in enumerate(fs)])\n",
    "        k4 = h * np.array([f(t + h, xs[i] + k3) for i, f in enumerate(fs)])\n",
    "        \n",
    "        xs += (k1 + 2 * k2 + 2 * k3 + k4) / 6\n",
    "        t = ta + j * h\n",
    "    return x\n",
    "\n",
    "fs = [lambda z1: z3]"
   ]
  }
 ],
 "metadata": {
  "kernelspec": {
   "display_name": "Python 3.9.0 64-bit",
   "language": "python",
   "name": "python3"
  },
  "language_info": {
   "codemirror_mode": {
    "name": "ipython",
    "version": 3
   },
   "file_extension": ".py",
   "mimetype": "text/x-python",
   "name": "python",
   "nbconvert_exporter": "python",
   "pygments_lexer": "ipython3",
   "version": "3.9.0"
  },
  "orig_nbformat": 4,
  "vscode": {
   "interpreter": {
    "hash": "38a1999c3c82483ceb77d8d853e137b43eb79cce81715cd6b94890874c6f2042"
   }
  }
 },
 "nbformat": 4,
 "nbformat_minor": 2
}
