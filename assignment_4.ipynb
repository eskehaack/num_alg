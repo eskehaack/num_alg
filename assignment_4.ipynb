{
 "cells": [
  {
   "cell_type": "markdown",
   "metadata": {},
   "source": [
    "# Assignment 4 - s214643\n",
    "01/12 - 22"
   ]
  },
  {
   "cell_type": "markdown",
   "metadata": {},
   "source": [
    "## 1) Multiple choice\n",
    "### A) LU factorization\n",
    "Answer: 1. Large rounding errors\n",
    "### B) Condition number\n",
    "Answer: 4. Sensitivity of solution to error\n",
    "### C) Linear system\n",
    "Answer: 3. 7500\n",
    "### d) Gaussian elimination\n",
    "Answer: 3. Change: 1 and 3, 2 and 3"
   ]
  },
  {
   "cell_type": "markdown",
   "metadata": {},
   "source": [
    "## 2) Newtons method for systems of nonlinear equations"
   ]
  },
  {
   "cell_type": "markdown",
   "metadata": {},
   "source": [
    "1. Implement FdFhj4:"
   ]
  },
  {
   "cell_type": "code",
   "execution_count": 11,
   "metadata": {},
   "outputs": [],
   "source": [
    "import numpy as np\n",
    "\n",
    "def FdFhj4(x):\n",
    "    F = lambda x: np.array([\n",
    "        2 * x[0] + x[1] + 2 * np.cos(x[0]),\n",
    "        x[0] + 2* x[1] - np.sin(x[1])\n",
    "    ], dtype=float)\n",
    "    \n",
    "    hessian = lambda x: np.array([\n",
    "        [2 - 2 * np.sin(x[0]), 1],\n",
    "        [1, 2 - np.cos(x[1])]\n",
    "    ], dtype=float)\n",
    "    \n",
    "    return F(x), hessian(x)\n",
    "\n",
    "def newt_sys(FdFhj4, x0, itter):\n",
    "    x = x0.copy()\n",
    "    estimate = [x.copy()]\n",
    "    \n",
    "    for _ in range(itter):\n",
    "        f, df = FdFhj4(x)\n",
    "        h = np.linalg.solve(df, -f).flatten()\n",
    "        x += h\n",
    "        estimate.append(x.copy())\n",
    "    return estimate"
   ]
  },
  {
   "cell_type": "markdown",
   "metadata": {},
   "source": [
    "2. Run newton systems and find convergence"
   ]
  },
  {
   "cell_type": "code",
   "execution_count": 12,
   "metadata": {},
   "outputs": [
    {
     "data": {
      "text/plain": [
       "[array([-1., 10.]),\n",
       " array([-1.65951517,  3.34835148]),\n",
       " array([-1.13772814,  1.41319155]),\n",
       " array([-1.01449234,  0.96595132]),\n",
       " array([-0.99009877,  0.88266467]),\n",
       " array([-0.98929344,  0.88002569]),\n",
       " array([-0.98929265,  0.88002314])]"
      ]
     },
     "execution_count": 12,
     "metadata": {},
     "output_type": "execute_result"
    }
   ],
   "source": [
    "x_hat = newt_sys(FdFhj4, np.array([-1, 10], dtype=float), 6)\n",
    "x_hat"
   ]
  },
  {
   "cell_type": "markdown",
   "metadata": {},
   "source": [
    "The function converges on the vector: $\\textbf{x} = [-0.98, 0.88]$"
   ]
  },
  {
   "cell_type": "code",
   "execution_count": 9,
   "metadata": {},
   "outputs": [
    {
     "data": {
      "image/png": "[encoded data removed]",
      "text/plain": [
       "<Figure size 640x480 with 1 Axes>"
      ]
     },
     "metadata": {},
     "output_type": "display_data"
    }
   ],
   "source": [
    "import matplotlib.pyplot as plt\n",
    "plt.plot(x_hat)\n",
    "plt.show()"
   ]
  },
  {
   "cell_type": "markdown",
   "metadata": {},
   "source": [
    "3. Convergence"
   ]
  },
  {
   "cell_type": "code",
   "execution_count": 21,
   "metadata": {},
   "outputs": [
    {
     "data": {
      "text/plain": [
       "array([0.02967669, 0.08751017, 0.3022782 , 0.35775477, 0.36597223,\n",
       "       0.36658225])"
      ]
     },
     "execution_count": 21,
     "metadata": {},
     "output_type": "execute_result"
    }
   ],
   "source": [
    "stat_point = np.array([-0.989292652343593, 0.880023136121182])\n",
    "\n",
    "err = np.max(abs(x_hat - stat_point), axis=1)\n",
    "rel_err = err[1:] / err[:-1]**2\n",
    "rel_err"
   ]
  },
  {
   "cell_type": "markdown",
   "metadata": {},
   "source": [
    "Approximation: $C \\approx 0.36$"
   ]
  },
  {
   "cell_type": "markdown",
   "metadata": {},
   "source": [
    "## 3) Sensitivity analysis\n",
    "\n",
    "1. Prove that \\\n",
    "We first define $b_m = 0.001$ as the maximum error in the vector. \\\n",
    "Then we find the norm of this vector.\n",
    "\\begin{align*}\n",
    "    b_m &= max||\\delta b||_2 \\\\\n",
    "    \\left|\\left| \n",
    "    \\begin{bmatrix}\n",
    "        b_{m} \\\\\n",
    "        b_{m} \\\\\n",
    "        \\vdots \\\\\n",
    "        b_{m}\n",
    "    \\end{bmatrix}\n",
    "    \\right|\\right| \n",
    "    & = \\sqrt{n\\cdot b_{m}^2} = \\sqrt{n} \\cdot b_m\n",
    "\\end{align*}\n",
    "\n",
    "2. Compute relative error\n",
    "\n",
    "\\begin{equation}\n",
    "\\frac{||\\delta x||_2}{||x||_2} = \\frac{||\\tilde{x} - x||_2}{||x||} \\leq \\kappa(A)^2 \\frac{||\\delta b||_2}{||b||_2} = 3.8^2 \\frac{\\sqrt{100}\\cdot 0.001}{1.7} \\approx 0.085\n",
    "\\end{equation}\n",
    "\n",
    "So the upper bound for relative error is calculated as the above\n"
   ]
  }
 ],
 "metadata": {
  "kernelspec": {
   "display_name": "Python 3.9.0 64-bit",
   "language": "python",
   "name": "python3"
  },
  "language_info": {
   "codemirror_mode": {
    "name": "ipython",
    "version": 3
   },
   "file_extension": ".py",
   "mimetype": "text/x-python",
   "name": "python",
   "nbconvert_exporter": "python",
   "pygments_lexer": "ipython3",
   "version": "3.9.0"
  },
  "orig_nbformat": 4,
  "vscode": {
   "interpreter": {
    "hash": "38a1999c3c82483ceb77d8d853e137b43eb79cce81715cd6b94890874c6f2042"
   }
  }
 },
 "nbformat": 4,
 "nbformat_minor": 2
}
