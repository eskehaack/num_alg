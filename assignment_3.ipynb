{
 "cells": [
  {
   "cell_type": "markdown",
   "metadata": {},
   "source": [
    "# Assignment 3 - Numerical algorithms - s214643"
   ]
  },
  {
   "cell_type": "markdown",
   "metadata": {},
   "source": [
    "## 1) Multiple choice"
   ]
  },
  {
   "cell_type": "markdown",
   "metadata": {},
   "source": [
    "### A. Numerical methods for solving ordinary differential equations\n",
    "\n",
    "2. Eulers method"
   ]
  },
  {
   "cell_type": "markdown",
   "metadata": {},
   "source": [
    "### B. Systems of ordinary differential equations.\n",
    "3. System of 4 equations"
   ]
  },
  {
   "cell_type": "markdown",
   "metadata": {},
   "source": [
    "### C. Initial value problems.\n",
    "3. Of order $O(h^4)$ for both methods"
   ]
  },
  {
   "cell_type": "markdown",
   "metadata": {},
   "source": [
    "### D. Runge-Kutta method.\n",
    "2. h $\\approx$ 0.025"
   ]
  },
  {
   "cell_type": "markdown",
   "metadata": {},
   "source": [
    "## 2) Initial-value problem"
   ]
  },
  {
   "cell_type": "markdown",
   "metadata": {},
   "source": [
    "#### 1. Write system of first order differential equations\n",
    "First we write the two equations\n",
    "$$\n",
    "\\begin{align*}\n",
    "x'' &= x^2 - y + e^t \\\\\n",
    "y'' &= x-y^2-e^t\n",
    "\\end{align*}\n",
    "$$\n",
    "we translate the system to new variables\n",
    "$$\n",
    "\\begin{align*}\n",
    "z_3' &= z_1^2 - z_2 + e^t \\\\\n",
    "z_4' &= z_1 - z_2^2-e^t\n",
    "\\end{align*}\n",
    "$$\n",
    "And then write the equations as a system of first order ODE's\n",
    "$$\n",
    "Z'(t) = \n",
    "\\begin{bmatrix}\n",
    "        z'_1 \\\\\n",
    "        z'_2 \\\\\n",
    "        z'_3 \\\\\n",
    "        z'_4\n",
    "\\end{bmatrix}\n",
    "=\n",
    "\\begin{bmatrix}\n",
    "        z_3 \\\\\n",
    "        z_4 \\\\\n",
    "        z_1^2 - z_2 + e^t \\\\\n",
    "        z_1 - z_2^2-e^t\n",
    "\\end{bmatrix}\n",
    "$$\n",
    "And the initial values can be written as:\n",
    "$$\n",
    "Z(0) = \n",
    "\\begin{bmatrix}\n",
    "        0 \\\\\n",
    "        1 \\\\\n",
    "        0 \\\\\n",
    "        -2\n",
    "\\end{bmatrix}\n",
    "$$"
   ]
  },
  {
   "cell_type": "markdown",
   "metadata": {},
   "source": [
    "#### 2. Right hand side function\n",
    "We write a function to return the system of ODE's to an array and a variable containing the initial values"
   ]
  },
  {
   "cell_type": "code",
   "execution_count": 50,
   "metadata": {},
   "outputs": [],
   "source": [
    "import numpy as np\n",
    "def right_hand_side(t, z):\n",
    "    return np.array([\n",
    "        z[2],\n",
    "        z[3],\n",
    "        z[0] ** 2 - z[1] + np.exp(t),\n",
    "        z[0] - z[1]**2 -np.exp(t)\n",
    "    ])\n",
    "\n",
    "initial = np.array([\n",
    "    0,\n",
    "    1,\n",
    "    0,\n",
    "    -2\n",
    "], dtype = float)"
   ]
  },
  {
   "cell_type": "markdown",
   "metadata": {},
   "source": [
    "#### 3. Apply RK4\n",
    "Then we define the fourth order RK method for systems"
   ]
  },
  {
   "cell_type": "code",
   "execution_count": 51,
   "metadata": {},
   "outputs": [],
   "source": [
    "import math\n",
    "def RK4system(fs, a, b, initial, h):\n",
    "    n = math.floor((b-a)/h)\n",
    "    t = a\n",
    "    h2 = h / 2\n",
    "    xs = initial.copy()\n",
    "    xs_list, ta = [xs], [t]\n",
    "    for _ in range(n):\n",
    "        k1 = h * fs(t, xs)\n",
    "        k2 = h * fs(t + h2, xs + 0.5 * k1)\n",
    "        k3 = h * fs(t + h2, xs + 0.5 * k2)\n",
    "        k4 = h * fs(t + h, xs + k3)\n",
    "\n",
    "        xs += (k1 + 2 * k2 + 2 * k3 + k4) / 6\n",
    "        t += h \n",
    "        \n",
    "        xs_list.append(xs.copy())\n",
    "        ta.append(t)\n",
    "    return xs_list, ta"
   ]
  },
  {
   "cell_type": "markdown",
   "metadata": {},
   "source": [
    "And use to RK4 to find values for $(x(2), y(2))$ for $h = 2^{-4}$ and $h =  2^{-5}$"
   ]
  },
  {
   "cell_type": "code",
   "execution_count": 58,
   "metadata": {},
   "outputs": [
    {
     "name": "stdout",
     "output_type": "stream",
     "text": [
      "k = 4, x(2) = 10.0878, y(2) = -21.0605\n",
      "k = 5, x(2) = 10.0881, y(2) = -21.0622\n"
     ]
    }
   ],
   "source": [
    "for k in [4,5]:\n",
    "    x, t = RK4system(right_hand_side, 0, 2, initial, 2**-k)\n",
    "    print(f'k = {k}, x(2) = {round(x[-1][0], 4)}, y(2) = {round(x[-1][1], 4)}')"
   ]
  },
  {
   "cell_type": "markdown",
   "metadata": {},
   "source": [
    "## 3) The shooting method for a nonlinear differential equation"
   ]
  },
  {
   "cell_type": "markdown",
   "metadata": {},
   "source": [
    "#### 1. Find $\\varphi(z)$\n",
    "\n",
    "Again we write the differential equation and translate to a system of first order ODE's \\\n",
    "This allows os to use RK4 to solve the differential equation"
   ]
  },
  {
   "cell_type": "markdown",
   "metadata": {},
   "source": [
    "$$\n",
    "7y'' + y' -y^2 + x = 0\n",
    "$$\n",
    "\n",
    "$$\n",
    "y''= (-y' + y^2 - x)/7\n",
    "$$\n",
    "\n",
    "$$\n",
    "\\begin{bmatrix}\n",
    "    x_1\\\\\n",
    "    x_2\n",
    "\\end{bmatrix}\n",
    "=\n",
    "\\begin{bmatrix}\n",
    "    x_2\\\\\n",
    "    (-x_2 + x_1^2 - t)/7\n",
    "\\end{bmatrix}\n",
    "$$"
   ]
  },
  {
   "cell_type": "markdown",
   "metadata": {},
   "source": [
    "Like in task 2, we define right hand side and initial values. \\\n",
    "This time the initial values are a funciton of z."
   ]
  },
  {
   "cell_type": "code",
   "execution_count": 81,
   "metadata": {},
   "outputs": [],
   "source": [
    "def right_hand_side(t, x):\n",
    "    return np.array([\n",
    "        x[1],\n",
    "        (-x[1] + x[0]**2 - t)/7\n",
    "    ])\n",
    "\n",
    "initial = lambda z: np.array([\n",
    "        7,\n",
    "        z\n",
    "    ], dtype=float)\n",
    "\n",
    "phi = lambda z: RK4system(right_hand_side, 0, 2, initial(z), h=10**(-4))[0][-1][0]\n",
    "phi = np.vectorize(phi)"
   ]
  },
  {
   "cell_type": "markdown",
   "metadata": {},
   "source": [
    "#### 2. Boundry value problem"
   ]
  },
  {
   "cell_type": "code",
   "execution_count": 129,
   "metadata": {},
   "outputs": [
    {
     "data": {
      "text/plain": [
       "array([  5.48213973,   4.74095425,   4.00749703,   3.28173318,\n",
       "         2.56366453,   1.85333341,   1.15082699,   0.45628228,\n",
       "        -0.23010828,  -0.90809032,  -1.57734022,  -2.23745667,\n",
       "        -2.88795102,  -3.52823626,  -4.15761431,  -4.77526143,\n",
       "        -5.38021142,  -5.97133622,  -6.54732344,  -7.10665041,\n",
       "        -7.64755396,  -8.16799526,  -8.66561878,  -9.13770433,\n",
       "        -9.58111075,  -9.9922096 , -10.36680702, -10.70005115,\n",
       "       -10.98632217, -11.21910125, -11.39081374, -11.49264086,\n",
       "       -11.51429254, -11.44373237, -11.26684286, -10.96701613,\n",
       "       -10.52465103,  -9.91653167,  -9.11505505,  -8.08726548,\n",
       "        -6.79363922,  -5.18654425,  -3.20827383,  -0.78851571,\n",
       "         2.15893281,   5.74046811,  10.08837355,  15.36843325,\n",
       "        21.79023327,  29.62127688,  39.20659606])"
      ]
     },
     "execution_count": 129,
     "metadata": {},
     "output_type": "execute_result"
    }
   ],
   "source": [
    "z = np.linspace(-50,0,51,endpoint=True)\n",
    "y = phi(z)\n",
    "y"
   ]
  },
  {
   "cell_type": "markdown",
   "metadata": {},
   "source": [
    "We calculate the values of $\\varphi$ as a function of $z$."
   ]
  },
  {
   "cell_type": "code",
   "execution_count": 97,
   "metadata": {},
   "outputs": [
    {
     "data": {
      "image/png": "[encoded data removed]",
      "text/plain": [
       "<Figure size 432x288 with 1 Axes>"
      ]
     },
     "metadata": {
      "needs_background": "light"
     },
     "output_type": "display_data"
    }
   ],
   "source": [
    "import matplotlib.pyplot as plt\n",
    "plt.plot(z, y)\n",
    "plt.plot((-50,0),(2,2), 'r')\n",
    "plt.xlabel('z')\n",
    "plt.ylabel(r'$\\varphi(z)$')\n",
    "plt.show()"
   ]
  },
  {
   "cell_type": "markdown",
   "metadata": {},
   "source": [
    "As seen above $\\varphi$ is not a linear function. We have to solutions two $\\varphi(z) = 2$."
   ]
  },
  {
   "cell_type": "markdown",
   "metadata": {},
   "source": [
    "#### 3. Find $\\varphi(z) = 2$"
   ]
  },
  {
   "cell_type": "code",
   "execution_count": 102,
   "metadata": {},
   "outputs": [],
   "source": [
    "def secant(a, b, nmax, f, dx):\n",
    "    fa = f(a) - dx\n",
    "    fb = f(b) - dx \n",
    "    x = [a, b]\n",
    "    for _ in range(nmax - 1):\n",
    "        d = fb * (b - a) / (fb - fa)\n",
    "        a = b\n",
    "        fa = fb\n",
    "        b = b - d\n",
    "        fb = f(b) - dx\n",
    "        x.append(b)\n",
    "    return x\n",
    "\n",
    "z1 = secant(-50, -40, 5, phi, 2)[-1]\n",
    "z2 = secant(-10, 0, 5, phi, 2)[-1]"
   ]
  },
  {
   "cell_type": "code",
   "execution_count": 104,
   "metadata": {},
   "outputs": [
    {
     "name": "stdout",
     "output_type": "stream",
     "text": [
      "z1 = -45.2074, z2 = -6.0722\n"
     ]
    }
   ],
   "source": [
    "print(f'z1 = {round(z1,4)}, z2 = {round(z2,4)}')"
   ]
  },
  {
   "cell_type": "markdown",
   "metadata": {},
   "source": [
    "Using the secant method for finding roots (with intervals [-50;-40] and [-10;0]) we get two values for $z$ that satisfies $\\varphi(z) = 2$."
   ]
  },
  {
   "cell_type": "markdown",
   "metadata": {},
   "source": [
    "#### 4. Plotting the two trajectories found with the RK4 method"
   ]
  },
  {
   "cell_type": "code",
   "execution_count": 121,
   "metadata": {},
   "outputs": [],
   "source": [
    "x1, t1 = RK4system(right_hand_side, 0, 2, initial(z1), h=10**(-4))\n",
    "x2, t2 = RK4system(right_hand_side, 0, 2, initial(z2), h=10**(-4))"
   ]
  },
  {
   "cell_type": "code",
   "execution_count": 128,
   "metadata": {},
   "outputs": [
    {
     "data": {
      "image/png": "[encoded data removed]",
      "text/plain": [
       "<Figure size 432x288 with 1 Axes>"
      ]
     },
     "metadata": {
      "needs_background": "light"
     },
     "output_type": "display_data"
    }
   ],
   "source": [
    "plt.plot(t1[1:], np.array(x1)[1:,0])\n",
    "plt.plot(t2[1:], np.array(x2)[1:,0])\n",
    "plt.xlabel('x')\n",
    "plt.ylabel('y')\n",
    "plt.title('Shooting trajectory')\n",
    "plt.show()"
   ]
  }
 ],
 "metadata": {
  "kernelspec": {
   "display_name": "Python 3.9.0 64-bit",
   "language": "python",
   "name": "python3"
  },
  "language_info": {
   "codemirror_mode": {
    "name": "ipython",
    "version": 3
   },
   "file_extension": ".py",
   "mimetype": "text/x-python",
   "name": "python",
   "nbconvert_exporter": "python",
   "pygments_lexer": "ipython3",
   "version": "3.9.0"
  },
  "orig_nbformat": 4,
  "vscode": {
   "interpreter": {
    "hash": "38a1999c3c82483ceb77d8d853e137b43eb79cce81715cd6b94890874c6f2042"
   }
  }
 },
 "nbformat": 4,
 "nbformat_minor": 2
}
