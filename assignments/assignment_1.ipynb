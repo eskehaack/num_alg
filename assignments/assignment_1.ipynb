{
 "cells": [
  {
   "cell_type": "markdown",
   "metadata": {},
   "source": [
    "## Numerical algorithms 1, assignment 1\n",
    "\n",
    "### 1 Multiple choice\n",
    "\n",
    "    A - errors, correct answer: 1\n",
    "    B – Data-fitting, correct answer: 2\n",
    "    C – Bisection method, correct answer: 2\n",
    "    D – Convergence, correct answer: 3"
   ]
  },
  {
   "cell_type": "code",
   "execution_count": 1,
   "metadata": {},
   "outputs": [],
   "source": [
    "import numpy as np\n",
    "import matplotlib.pyplot as plt"
   ]
  },
  {
   "cell_type": "code",
   "execution_count": 2,
   "metadata": {},
   "outputs": [
    {
     "data": {
      "image/png": "[encoded data removed]",
      "text/plain": [
       "<Figure size 432x288 with 1 Axes>"
      ]
     },
     "metadata": {
      "needs_background": "light"
     },
     "output_type": "display_data"
    }
   ],
   "source": [
    "# For task D in multiple choice\n",
    "\n",
    "x = np.arange(6)\n",
    "err = np.array([1.23e-1, 7.64e-2, 3.91e-2, 1.53e-2, 4.10e-3, 6.53e-4])\n",
    "plt.plot(x,np.sqrt(err))\n",
    "plt.show()"
   ]
  },
  {
   "cell_type": "markdown",
   "metadata": {},
   "source": [
    "### 2 Data fitting\n",
    "#### 2.1"
   ]
  },
  {
   "cell_type": "code",
   "execution_count": 3,
   "metadata": {},
   "outputs": [
    {
     "name": "stdout",
     "output_type": "stream",
     "text": [
      "System matrix\n",
      "[[1.         1.        ]\n",
      " [0.60653066 0.36787944]\n",
      " [0.36787944 0.13533528]\n",
      " [0.22313016 0.04978707]\n",
      " [0.13533528 0.01831564]] \n",
      "\n",
      "Right hand side\n",
      "[2.89322055 2.59131074]\n"
     ]
    }
   ],
   "source": [
    "# Initialize arrays with data\n",
    "x = np.array([0.0, 0.5, 1.0, 1.5, 2.0])\n",
    "y = np.array([2.24, 0.80, 0.38, 0.09, 0.06])\n",
    "\n",
    "# Linearize\n",
    "x1 = np.exp(-x)\n",
    "x2 = np.exp(-2*x)\n",
    "\n",
    "# Find the coefficient matrix\n",
    "A = np.array([x1,x2]).T\n",
    "\n",
    "print(\"System matrix\")\n",
    "print(A,\"\\n\")\n",
    "print(\"Right hand side\")\n",
    "print(np.dot(A.T,y))"
   ]
  },
  {
   "cell_type": "markdown",
   "metadata": {},
   "source": [
    "#### 2.2"
   ]
  },
  {
   "cell_type": "code",
   "execution_count": 4,
   "metadata": {},
   "outputs": [
    {
     "name": "stdout",
     "output_type": "stream",
     "text": [
      "Coefficients: a and b\n",
      "a: 0.07511, b: 2.157\n",
      "\n"
     ]
    }
   ],
   "source": [
    "a,b = np.linalg.solve(A.T@A,np.dot(A.T,y))\n",
    "\n",
    "def f(a,b,x):\n",
    "    return a*np.exp(-x) + b*np.exp(-2*x)\n",
    "    \n",
    "print(\"Coefficients: a and b\")\n",
    "print(f\"a: {a:#.4}, b: {b:#.4}\\n\")"
   ]
  },
  {
   "cell_type": "markdown",
   "metadata": {},
   "source": [
    "#### 2.3"
   ]
  },
  {
   "cell_type": "code",
   "execution_count": 5,
   "metadata": {},
   "outputs": [
    {
     "name": "stdout",
     "output_type": "stream",
     "text": [
      "Absolute error\n",
      "[0.0077, 0.039, 0.06, 0.034, 0.01]\n"
     ]
    }
   ],
   "source": [
    "print(\"Absolute error\")\n",
    "print([float(f\"{abs(y[i]-f(a,b,x_point)):#.2}\") for i,x_point in enumerate(x)])"
   ]
  },
  {
   "cell_type": "markdown",
   "metadata": {},
   "source": [
    "### 3 Convergence of Newton’s method for double root\n",
    "#### Question 1"
   ]
  },
  {
   "cell_type": "code",
   "execution_count": 6,
   "metadata": {},
   "outputs": [],
   "source": [
    "def newton(starting_point, nmax, f, f_div):\n",
    "    x = starting_point\n",
    "    xs = [x]\n",
    "    for _ in range(nmax):\n",
    "        fx = f(x)\n",
    "        fp = f_div(x)\n",
    "        x = x - (fx / fp)\n",
    "        xs.append(x)\n",
    "    return xs\n",
    "\n",
    "f = lambda x: (x-2)**2 * (x-8)\n",
    "f_div = lambda x: (x-8)*(2*x-4) + (x-2)**2\n",
    "\n",
    "x_hat = newton(4.6, 12, f, f_div)\n",
    "error = [abs(2-x_point) for x_point in x_hat]\n",
    "quad_error = [abs(error[i]/(error[i-1]**2)) for i in range(1, len(error))]"
   ]
  },
  {
   "cell_type": "code",
   "execution_count": 7,
   "metadata": {},
   "outputs": [
    {
     "data": {
      "text/html": [
       "<div>\n",
       "<style scoped>\n",
       "    .dataframe tbody tr th:only-of-type {\n",
       "        vertical-align: middle;\n",
       "    }\n",
       "\n",
       "    .dataframe tbody tr th {\n",
       "        vertical-align: top;\n",
       "    }\n",
       "\n",
       "    .dataframe thead th {\n",
       "        text-align: right;\n",
       "    }\n",
       "</style>\n",
       "<table border=\"1\" class=\"dataframe\">\n",
       "  <thead>\n",
       "    <tr style=\"text-align: right;\">\n",
       "      <th></th>\n",
       "      <th>x_n</th>\n",
       "      <th>|e_n|</th>\n",
       "      <th>|en/e(n-1)**2|</th>\n",
       "    </tr>\n",
       "  </thead>\n",
       "  <tbody>\n",
       "    <tr>\n",
       "      <th>0</th>\n",
       "      <td>4.600000</td>\n",
       "      <td>2.600000</td>\n",
       "      <td>-</td>\n",
       "    </tr>\n",
       "    <tr>\n",
       "      <th>1</th>\n",
       "      <td>2.495238</td>\n",
       "      <td>0.495238</td>\n",
       "      <td>0.0732601</td>\n",
       "    </tr>\n",
       "    <tr>\n",
       "      <th>2</th>\n",
       "      <td>2.235956</td>\n",
       "      <td>0.235956</td>\n",
       "      <td>0.962061</td>\n",
       "    </tr>\n",
       "    <tr>\n",
       "      <th>3</th>\n",
       "      <td>2.115513</td>\n",
       "      <td>0.115513</td>\n",
       "      <td>2.07476</td>\n",
       "    </tr>\n",
       "    <tr>\n",
       "      <th>4</th>\n",
       "      <td>2.057184</td>\n",
       "      <td>0.057184</td>\n",
       "      <td>4.28562</td>\n",
       "    </tr>\n",
       "    <tr>\n",
       "      <th>5</th>\n",
       "      <td>2.028454</td>\n",
       "      <td>0.028454</td>\n",
       "      <td>8.70146</td>\n",
       "    </tr>\n",
       "    <tr>\n",
       "      <th>6</th>\n",
       "      <td>2.014193</td>\n",
       "      <td>0.014193</td>\n",
       "      <td>17.5304</td>\n",
       "    </tr>\n",
       "    <tr>\n",
       "      <th>7</th>\n",
       "      <td>2.007088</td>\n",
       "      <td>0.007088</td>\n",
       "      <td>35.1871</td>\n",
       "    </tr>\n",
       "    <tr>\n",
       "      <th>8</th>\n",
       "      <td>2.003542</td>\n",
       "      <td>0.003542</td>\n",
       "      <td>70.4999</td>\n",
       "    </tr>\n",
       "    <tr>\n",
       "      <th>9</th>\n",
       "      <td>2.001770</td>\n",
       "      <td>0.001770</td>\n",
       "      <td>141.125</td>\n",
       "    </tr>\n",
       "    <tr>\n",
       "      <th>10</th>\n",
       "      <td>2.000885</td>\n",
       "      <td>0.000885</td>\n",
       "      <td>282.375</td>\n",
       "    </tr>\n",
       "    <tr>\n",
       "      <th>11</th>\n",
       "      <td>2.000443</td>\n",
       "      <td>0.000443</td>\n",
       "      <td>564.876</td>\n",
       "    </tr>\n",
       "    <tr>\n",
       "      <th>12</th>\n",
       "      <td>2.000221</td>\n",
       "      <td>0.000221</td>\n",
       "      <td>1129.88</td>\n",
       "    </tr>\n",
       "  </tbody>\n",
       "</table>\n",
       "</div>"
      ],
      "text/plain": [
       "         x_n     |e_n| |en/e(n-1)**2|\n",
       "0   4.600000  2.600000              -\n",
       "1   2.495238  0.495238      0.0732601\n",
       "2   2.235956  0.235956       0.962061\n",
       "3   2.115513  0.115513        2.07476\n",
       "4   2.057184  0.057184        4.28562\n",
       "5   2.028454  0.028454        8.70146\n",
       "6   2.014193  0.014193        17.5304\n",
       "7   2.007088  0.007088        35.1871\n",
       "8   2.003542  0.003542        70.4999\n",
       "9   2.001770  0.001770        141.125\n",
       "10  2.000885  0.000885        282.375\n",
       "11  2.000443  0.000443        564.876\n",
       "12  2.000221  0.000221        1129.88"
      ]
     },
     "execution_count": 7,
     "metadata": {},
     "output_type": "execute_result"
    }
   ],
   "source": [
    "import pandas as pd\n",
    "quad_error.insert(0, \"-\")\n",
    "pd.DataFrame({\"x_n\": x_hat, \"|e_n|\": error, \"|en/e(n-1)**2|\": quad_error})"
   ]
  },
  {
   "cell_type": "markdown",
   "metadata": {},
   "source": [
    "#### Question 2\n",
    "First we define equation (4) from the assignment.\n",
    "\\begin{equation*}\n",
    "    e_{n+1} = x_{n+1} - r = e_n - 2 \\frac{f(x_n)}{f'(x_n)}\n",
    "\\end{equation*}\n",
    "\n",
    "Next we define the taylor series polynomiums.\n",
    "\\begin{align*}\n",
    "    f(x_n) &= f(r) + f'(r)e_n + \\frac{1}{2} f''(r)e_n^2 + \\frac{1}{6} + f'''(\\xi_n)e_n^3 \\\\\n",
    "    f'(x_n) &= f'(r)e_n + f''(r)e_n + \\frac{1}{2} + f'''(\\zeta)e_n^2\n",
    "\\end{align*}\n",
    "\n",
    "We'll reduce the above expressions using that $f(r)$ is a double root, and substitute them in to equation (4) from the assignment.\n",
    "\\begin{equation*}\n",
    "    e_{n+1} = x_{n+1} - r = e_n - 2 \\frac{\\frac{1}{2} f''(r)e_n^2 + \\frac{1}{6} + f'''(\\xi_n)e_n^3}{f''(r)e_n + \\frac{1}{2} + f'''(\\zeta)e_n^2} = e_n -  \\frac{f''(r)e_n^2 + \\frac{1}{3} + f'''(\\xi_n)e_n^3}{f''(r)e_n + \\frac{1}{2} + f'''(\\zeta)e_n^2}\n",
    "\\end{equation*}\n",
    "\n",
    "Then we find a common denominator for $e_n$ and the fraction.\n",
    "\\begin{equation*}\n",
    "    e_{n+1} = \\left(\\frac{f''(r)+\\frac{1}{2}f'''(\\zeta_n)e_n - f''(r)+\\frac{1}{3}f'''(\\xi_n)e_n}{f''(r)e_n+\\frac{1}{2}f'''(\\zeta)e_n^2}\\right)e_n^2 = \\left(\\frac{\\frac{1}{2}f'''(\\zeta_n)e_n-\\frac{1}{3}f'''(\\xi_n)e_n}{f''(r)e_n+\\frac{1}{2}f'''(\\zeta)e_n^2}\\right)e_n^2\n",
    "\\end{equation*}\n",
    "\n",
    "Which can be further reduced to:\n",
    "\\begin{equation*}\n",
    "    e_{n+1} = \\left(\\frac{\\frac{1}{2}f'''(\\zeta_n)-\\frac{1}{3}f'''(\\xi_n)}{f''(r)+\\frac{1}{2}f'''(\\zeta)e_n}\\right)e_n^2 = \\left(\\frac{3f'''(\\zeta_n)-2f'''(\\xi_n)}{6f''(r)+3f'''(\\zeta)e_n}\\right)e_n^2\n",
    "\\end{equation*}"
   ]
  },
  {
   "cell_type": "markdown",
   "metadata": {},
   "source": [
    "#### Question 3\n",
    "Now we impliment expression (3) from the assignment in to the newton function."
   ]
  },
  {
   "cell_type": "code",
   "execution_count": 8,
   "metadata": {},
   "outputs": [],
   "source": [
    "def newton(starting_point, nmax, f, f_div, m=2):\n",
    "    x = starting_point\n",
    "    xs = [x]\n",
    "    for _ in range(nmax):\n",
    "        fx = f(x)\n",
    "        fp = f_div(x)\n",
    "        x = x - m*(fx / fp)\n",
    "        xs.append(x)\n",
    "    return xs\n",
    "\n",
    "f = lambda x: (x-2)**2 * (x-8)\n",
    "f_div = lambda x: (x-8)*(2*x-4) + (x-2)**2\n",
    "\n",
    "x_hat = newton(4.6, 5, f, f_div)\n",
    "error = [abs(2-x_point) for x_point in x_hat]\n",
    "quad_error = [abs(error[i]/(error[i-1]**2)) for i in range(1, len(error))]"
   ]
  },
  {
   "cell_type": "code",
   "execution_count": 9,
   "metadata": {},
   "outputs": [
    {
     "data": {
      "text/html": [
       "<div>\n",
       "<style scoped>\n",
       "    .dataframe tbody tr th:only-of-type {\n",
       "        vertical-align: middle;\n",
       "    }\n",
       "\n",
       "    .dataframe tbody tr th {\n",
       "        vertical-align: top;\n",
       "    }\n",
       "\n",
       "    .dataframe thead th {\n",
       "        text-align: right;\n",
       "    }\n",
       "</style>\n",
       "<table border=\"1\" class=\"dataframe\">\n",
       "  <thead>\n",
       "    <tr style=\"text-align: right;\">\n",
       "      <th></th>\n",
       "      <th>x_n</th>\n",
       "      <th>|e_n|</th>\n",
       "      <th>|en/e(n-1)**2|</th>\n",
       "    </tr>\n",
       "  </thead>\n",
       "  <tbody>\n",
       "    <tr>\n",
       "      <th>0</th>\n",
       "      <td>4.600000</td>\n",
       "      <td>2.600000e+00</td>\n",
       "      <td>-</td>\n",
       "    </tr>\n",
       "    <tr>\n",
       "      <th>1</th>\n",
       "      <td>0.390476</td>\n",
       "      <td>1.609524e+00</td>\n",
       "      <td>0.238095</td>\n",
       "    </tr>\n",
       "    <tr>\n",
       "      <th>2</th>\n",
       "      <td>1.846061</td>\n",
       "      <td>1.539386e-01</td>\n",
       "      <td>0.0594228</td>\n",
       "    </tr>\n",
       "    <tr>\n",
       "      <th>3</th>\n",
       "      <td>1.998098</td>\n",
       "      <td>1.901576e-03</td>\n",
       "      <td>0.0802451</td>\n",
       "    </tr>\n",
       "    <tr>\n",
       "      <th>4</th>\n",
       "      <td>2.000000</td>\n",
       "      <td>3.011896e-07</td>\n",
       "      <td>0.0832937</td>\n",
       "    </tr>\n",
       "    <tr>\n",
       "      <th>5</th>\n",
       "      <td>2.000000</td>\n",
       "      <td>7.549517e-15</td>\n",
       "      <td>0.0832222</td>\n",
       "    </tr>\n",
       "  </tbody>\n",
       "</table>\n",
       "</div>"
      ],
      "text/plain": [
       "        x_n         |e_n| |en/e(n-1)**2|\n",
       "0  4.600000  2.600000e+00              -\n",
       "1  0.390476  1.609524e+00       0.238095\n",
       "2  1.846061  1.539386e-01      0.0594228\n",
       "3  1.998098  1.901576e-03      0.0802451\n",
       "4  2.000000  3.011896e-07      0.0832937\n",
       "5  2.000000  7.549517e-15      0.0832222"
      ]
     },
     "execution_count": 9,
     "metadata": {},
     "output_type": "execute_result"
    }
   ],
   "source": [
    "quad_error.insert(0, \"-\")\n",
    "pd.DataFrame({\"x_n\": x_hat, \"|e_n|\": error, \"|en/e(n-1)**2|\": quad_error})"
   ]
  },
  {
   "cell_type": "markdown",
   "metadata": {},
   "source": [
    "As you can see on the above table the convergence ratio converges on a constant $c = 0.083$. Hence the function must converge quadratically."
   ]
  },
  {
   "cell_type": "markdown",
   "metadata": {},
   "source": [
    "#### Question 4\n",
    "\n"
   ]
  },
  {
   "cell_type": "markdown",
   "metadata": {},
   "source": [
    "We start by double and triple differentiating the function (2) from the assignment."
   ]
  },
  {
   "cell_type": "code",
   "execution_count": 10,
   "metadata": {},
   "outputs": [],
   "source": [
    "ddf = lambda x: 6*(x-4)\n",
    "dddf = lambda c=0: 6"
   ]
  },
  {
   "cell_type": "markdown",
   "metadata": {},
   "source": [
    "As we can see, the tripple derivative is a constant $c=6$. This makes it possible for us to completely determine our convergence ratio.\n",
    "Furthermore we know, that the error converges on zero, as n goes towards infinity."
   ]
  },
  {
   "cell_type": "code",
   "execution_count": 11,
   "metadata": {},
   "outputs": [
    {
     "data": {
      "text/plain": [
       "-0.08333333333333333"
      ]
     },
     "execution_count": 11,
     "metadata": {},
     "output_type": "execute_result"
    }
   ],
   "source": [
    "con_rat = lambda x: ((3*dddf()-2*dddf())/(6*ddf(x)))\n",
    "con_rat(2)"
   ]
  },
  {
   "cell_type": "markdown",
   "metadata": {},
   "source": [
    "The convergence ratio converges to $\\frac{1}{12}$, which is relatively close to the value found in question 3."
   ]
  }
 ],
 "metadata": {
  "kernelspec": {
   "display_name": "Python 3.9.0 64-bit",
   "language": "python",
   "name": "python3"
  },
  "language_info": {
   "codemirror_mode": {
    "name": "ipython",
    "version": 3
   },
   "file_extension": ".py",
   "mimetype": "text/x-python",
   "name": "python",
   "nbconvert_exporter": "python",
   "pygments_lexer": "ipython3",
   "version": "3.9.0 (tags/v3.9.0:9cf6752, Oct  5 2020, 15:34:40) [MSC v.1927 64 bit (AMD64)]"
  },
  "orig_nbformat": 4,
  "vscode": {
   "interpreter": {
    "hash": "38a1999c3c82483ceb77d8d853e137b43eb79cce81715cd6b94890874c6f2042"
   }
  }
 },
 "nbformat": 4,
 "nbformat_minor": 2
}
